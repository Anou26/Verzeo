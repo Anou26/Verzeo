{
 "cells": [
  {
   "cell_type": "markdown",
   "metadata": {},
   "source": [
    "#### Q1. Write a python script to concatenate the following dictionaries to create a new one. \n",
    "##### Sample dictionary\n",
    "##### dic1 = {1:10, 2:20}, dic2 = {3:30, 4:40}, dic3 = {5:50, 6:60}"
   ]
  },
  {
   "cell_type": "code",
   "execution_count": 7,
   "metadata": {},
   "outputs": [
    {
     "name": "stdout",
     "output_type": "stream",
     "text": [
      "{1: 10, 2: 20, 3: 30, 4: 40, 5: 50, 6: 60}\n"
     ]
    }
   ],
   "source": [
    "dic1 = {1:10, 2:20}\n",
    "dic2 = {3:30, 4:40}\n",
    "dic3 = {5:50, 6:60}\n",
    "dic4 = {}\n",
    "for d in (dic1,dic2,dic3): \n",
    "    dic4.update(d)\n",
    "print(dic4)"
   ]
  },
  {
   "cell_type": "markdown",
   "metadata": {},
   "source": [
    "#### Q2. Write a python script to check if a given key already exists in a dictionary"
   ]
  },
  {
   "cell_type": "code",
   "execution_count": 11,
   "metadata": {},
   "outputs": [
    {
     "name": "stdout",
     "output_type": "stream",
     "text": [
      "key is present\n",
      "key is not present\n"
     ]
    }
   ],
   "source": [
    "def is_key_present(x):\n",
    "    if x in d:\n",
    "        print(\"key is present\")\n",
    "    else:\n",
    "        print(\"key is not present\")\n",
    "is_key_present(5)\n",
    "is_key_present(11)"
   ]
  },
  {
   "cell_type": "markdown",
   "metadata": {},
   "source": [
    "#### Q3. Write a python script to print dictionary where the keys are numbers between 1 and 15 (both included) and the values are square of keys. Go to the editor \n",
    "##### Sample dictionary \n",
    "##### {1:1, 2:4, 3:9, 4:16, 5:25, 6:36, 7:49, 8:64, 9:81, 10:100, 11:121, 12:144, 13:169, 14:196, 15:225}"
   ]
  },
  {
   "cell_type": "code",
   "execution_count": 12,
   "metadata": {},
   "outputs": [
    {
     "name": "stdout",
     "output_type": "stream",
     "text": [
      "{1: 1, 2: 4, 3: 9, 4: 16, 5: 25, 6: 36, 7: 49, 8: 64, 9: 81, 10: 100, 11: 121, 12: 144, 13: 169, 14: 196, 15: 225}\n"
     ]
    }
   ],
   "source": [
    "d=dict()\n",
    "for x in range(1,16):\n",
    "    d[x]=x**2\n",
    "print(d) "
   ]
  },
  {
   "cell_type": "markdown",
   "metadata": {},
   "source": [
    "#### Q4. Write a python program to remove duplicates from dictionary."
   ]
  },
  {
   "cell_type": "code",
   "execution_count": 15,
   "metadata": {},
   "outputs": [
    {
     "name": "stdout",
     "output_type": "stream",
     "text": [
      "{'id1': {'name': ['Sara'], 'class': ['V'], 'subject_integration': ['english, math, science']}, 'id2': {'name': ['David'], 'class': ['V'], 'subject_integration': ['english, math, science']}, 'id4': {'name': ['Surya'], 'class': ['V'], 'subject_integration': ['english, math, science']}}\n"
     ]
    }
   ],
   "source": [
    "student_data = {'id1': \n",
    "   {'name': ['Sara'], \n",
    "    'class': ['V'], \n",
    "    'subject_integration': ['english, math, science']\n",
    "   },\n",
    " 'id2': \n",
    "  {'name': ['David'], \n",
    "    'class': ['V'], \n",
    "    'subject_integration': ['english, math, science']\n",
    "   },\n",
    " 'id3': \n",
    "    {'name': ['Sara'], \n",
    "    'class': ['V'], \n",
    "    'subject_integration': ['english, math, science']\n",
    "   },\n",
    " 'id4': \n",
    "   {'name': ['Surya'], \n",
    "    'class': ['V'], \n",
    "    'subject_integration': ['english, math, science']\n",
    "   },\n",
    "}\n",
    "\n",
    "result = {}\n",
    "\n",
    "for key,value in student_data.items():\n",
    "    if value not in result.values():\n",
    "        result[key] = value\n",
    "\n",
    "print(result)"
   ]
  },
  {
   "cell_type": "markdown",
   "metadata": {},
   "source": [
    "#### Q5. Write a python program to display all combinations of letters , selecting each letter from a different key in a dictionary. Go to the editor\n",
    "##### Sample data : {'1' : ['a' , 'b'], '2' : ['c' , 'd']}\n"
   ]
  },
  {
   "cell_type": "code",
   "execution_count": 16,
   "metadata": {},
   "outputs": [
    {
     "name": "stdout",
     "output_type": "stream",
     "text": [
      "ac\n",
      "ad\n",
      "bc\n",
      "bd\n"
     ]
    }
   ],
   "source": [
    "from itertools import product\n",
    "\n",
    "d ={'1':['a','b'], '2':['c','d']}\n",
    "\n",
    "for x, y in product(*d.values()):\n",
    "    print(x + y)"
   ]
  },
  {
   "cell_type": "markdown",
   "metadata": {},
   "source": [
    "#### Q6. Write a python program to create a dictionary from a string. Go to the editor. Note: Track the count of the letters from the string. Sample string: 'w3resource'"
   ]
  },
  {
   "cell_type": "code",
   "execution_count": 17,
   "metadata": {},
   "outputs": [
    {
     "name": "stdout",
     "output_type": "stream",
     "text": [
      "{'w': 1, '3': 1, 'r': 2, 'e': 2, 's': 1, 'o': 1, 'u': 1, 'c': 1}\n"
     ]
    }
   ],
   "source": [
    "from collections import defaultdict, Counter\n",
    "str1 = 'w3resource' \n",
    "my_dict = {}\n",
    "for letter in str1:\n",
    "    my_dict[letter] = my_dict.get(letter, 0) + 1\n",
    "print(my_dict)"
   ]
  },
  {
   "cell_type": "markdown",
   "metadata": {},
   "source": [
    "#### Q7. Write a python program to sort counter by value . Go to the editor. Sample data: {'Math':81, 'Physics':83, 'Chemistry':87}"
   ]
  },
  {
   "cell_type": "code",
   "execution_count": 18,
   "metadata": {},
   "outputs": [
    {
     "name": "stdout",
     "output_type": "stream",
     "text": [
      "[('Chemistry', 87), ('Physics', 83), ('Math', 81)]\n"
     ]
    }
   ],
   "source": [
    "from collections import Counter\n",
    "x = Counter({'Math':81, 'Physics':83, 'Chemistry':87})\n",
    "print(x.most_common())"
   ]
  },
  {
   "cell_type": "code",
   "execution_count": null,
   "metadata": {},
   "outputs": [],
   "source": []
  }
 ],
 "metadata": {
  "kernelspec": {
   "display_name": "Python 3",
   "language": "python",
   "name": "python3"
  },
  "language_info": {
   "codemirror_mode": {
    "name": "ipython",
    "version": 3
   },
   "file_extension": ".py",
   "mimetype": "text/x-python",
   "name": "python",
   "nbconvert_exporter": "python",
   "pygments_lexer": "ipython3",
   "version": "3.7.3"
  }
 },
 "nbformat": 4,
 "nbformat_minor": 2
}
